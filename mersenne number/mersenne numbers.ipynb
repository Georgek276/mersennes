{
 "cells": [
  {
   "cell_type": "code",
   "execution_count": 23,
   "id": "ae41f559",
   "metadata": {},
   "outputs": [],
   "source": [
    "#A Mersenne number is any number that can be written as (2power-1)example 7 =(2^3 -1)\n",
    "\n",
    "\n",
    "#this code takes in an exponent p and returns the equivalent mersenne number\n",
    "def mersenne_number(p):\n",
    "    return 2**p -1\n",
    "#it is good to note Mersenne numbers can only be prime if their exponent, p\n",
    "#, is prime. Make a list of the Mersenne numbers for all primes p\n",
    "# between 3 and 65 (there should be 17 of them)."
   ]
  },
  {
   "cell_type": "code",
   "execution_count": 24,
   "id": "80a3f3e5",
   "metadata": {},
   "outputs": [],
   "source": [
    "#to get a prime number\n",
    "def is_prime(number):\n",
    "    if number <= 1:\n",
    "        return False\n",
    "    else:\n",
    "        for factor in range(2,number):\n",
    "            if number % factor == 0:\n",
    "                return False\n",
    "    return True\n",
    "#here we get the prime numbers in our given range\n",
    "def get_primes(n_start, n_end):\n",
    "    return [number for number in range(n_start, n_end+1) if is_prime(number)]"
   ]
  },
  {
   "cell_type": "code",
   "execution_count": 25,
   "id": "81428146",
   "metadata": {},
   "outputs": [],
   "source": [
    "mersennes = [mersenne_number(p) for p in get_primes(3,11)]"
   ]
  },
  {
   "cell_type": "code",
   "execution_count": 26,
   "id": "09ffe742",
   "metadata": {},
   "outputs": [
    {
     "name": "stdout",
     "output_type": "stream",
     "text": [
      "[7, 31, 127, 2047]\n"
     ]
    }
   ],
   "source": [
    "print(mersennes)"
   ]
  }
 ],
 "metadata": {
  "kernelspec": {
   "display_name": "Python 3 (ipykernel)",
   "language": "python",
   "name": "python3"
  },
  "language_info": {
   "codemirror_mode": {
    "name": "ipython",
    "version": 3
   },
   "file_extension": ".py",
   "mimetype": "text/x-python",
   "name": "python",
   "nbconvert_exporter": "python",
   "pygments_lexer": "ipython3",
   "version": "3.9.13"
  }
 },
 "nbformat": 4,
 "nbformat_minor": 5
}
